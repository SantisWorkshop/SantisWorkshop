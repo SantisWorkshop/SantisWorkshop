{
 "cells": [
  {
   "cell_type": "markdown",
   "metadata": {},
   "source": [
    "# Let's look at our data\n",
    "\n",
    "We are only focusing on five candidates using data from the 2016 primary elections: Bernie Sanders, Donald Trump, Hillary Clinton, john Kasich, and Ted Cruz. \n",
    "\n",
    "`NaN` values were replaced by 0, but maybe replace later if they cause issues. "
   ]
  },
  {
   "cell_type": "code",
   "execution_count": 15,
   "metadata": {},
   "outputs": [
    {
     "name": "stdout",
     "output_type": "stream",
     "text": [
      "        state      county  Bernie Sanders  Donald Trump  Hillary Clinton  \\\n",
      "0     Alabama     Autauga             544          5387             2387   \n",
      "1     Alabama     Baldwin            2694         23618             5290   \n",
      "2     Alabama     Barbour             222          1710             2567   \n",
      "3     Alabama        Bibb             246          1959              942   \n",
      "4     Alabama      Blount             395          7390              564   \n",
      "...       ...         ...             ...           ...              ...   \n",
      "4200  Wyoming  Sweetwater              12             0               10   \n",
      "4201  Wyoming       Teton               9           238               84   \n",
      "4202  Wyoming       Uinta               5             0                4   \n",
      "4203  Wyoming    Washakie               1             0                2   \n",
      "4204  Wyoming      Weston               1           454              940   \n",
      "\n",
      "      John Kasich  Ted Cruz  \n",
      "0             421      2482  \n",
      "1            2987      8571  \n",
      "2             123       609  \n",
      "3              84      1011  \n",
      "4             337      3698  \n",
      "...           ...       ...  \n",
      "4200            0         0  \n",
      "4201          101       465  \n",
      "4202            0         0  \n",
      "4203            0         0  \n",
      "4204          413        94  \n",
      "\n",
      "[4205 rows x 7 columns]\n"
     ]
    }
   ],
   "source": [
    "import numpy as np\n",
    "import pandas as pd  \n",
    "\n",
    "\n",
    "#Read the csv file\n",
    "data = pd.read_csv('primary_data.csv')\n",
    "\n",
    "print(data)"
   ]
  },
  {
   "cell_type": "markdown",
   "metadata": {},
   "source": [
    "# This is Plurality\n"
   ]
  },
  {
   "cell_type": "code",
   "execution_count": 3,
   "metadata": {},
   "outputs": [
    {
     "name": "stdout",
     "output_type": "stream",
     "text": [
      "Hillary Clinton    17508677\n",
      "Donald Trump       15659872\n",
      "Bernie Sanders     11959102\n",
      "Ted Cruz            8024089\n",
      "John Kasich         3975015\n",
      "dtype: int64\n"
     ]
    }
   ],
   "source": [
    "#sum the total number of votes\n",
    "total_votes = data.sum(axis = 0, numeric_only= True)\n",
    "\n",
    "#print results\n",
    "print(total_votes.sort_values(axis = 0, ascending = False))\n"
   ]
  },
  {
   "cell_type": "markdown",
   "metadata": {},
   "source": [
    "# Borda Count"
   ]
  },
  {
   "cell_type": "code",
   "execution_count": 16,
   "metadata": {},
   "outputs": [
    {
     "name": "stdout",
     "output_type": "stream",
     "text": [
      "[[1393.  663.  526. 1070.  553.]\n",
      " [1519. 1470. 1048.  166.    2.]\n",
      " [ 887. 1153. 1235.  516.  414.]\n",
      " [  34.  121.  503. 1608. 1939.]\n",
      " [ 372.  798.  893.  845. 1297.]]\n"
     ]
    }
   ],
   "source": [
    "#Just get the numerical data\n",
    "num_data = data.iloc[:,2:]\n",
    "\n",
    "\n",
    "#print(np.shape(data.iloc[:,2:]))\n",
    "\n",
    "# Convert the data to a numpy matrix without the col headers\n",
    "numpy_mat = num_data.to_numpy()\n",
    "\n",
    "# Convert that to a DataFrame to get row max\n",
    "mat = pd.DataFrame(numpy_mat)\n",
    "\n",
    "# Find shape of the num_data matrix\n",
    "row, col = np.shape(mat)\n",
    "\n",
    "# Allocate data to count the instance of candidate placements \n",
    "borda_count_mat = np.zeros((col,col))\n",
    "\n",
    "#print(np.shape(borda_count_mat))\n",
    "\n",
    "# Loop to find row_max and count placements\n",
    "for i in range(row):\n",
    "    for j in range(col):\n",
    "        \n",
    "        #Find the row max location\n",
    "        row_max_loc = mat.idxmax(axis = 1)\n",
    "        location = row_max_loc[i]\n",
    "        \n",
    "        #Add 1 to the  candidate, place in the borda matrix        \n",
    "        borda_count_mat[location, j] += 1\n",
    "        \n",
    "        #Replace the row_max with a -1\n",
    "        numpy_mat[i,location] = -1\n",
    "            \n",
    "print(borda_count_mat)\n",
    "\n"
   ]
  },
  {
   "cell_type": "markdown",
   "metadata": {},
   "source": [
    "# Issue\n",
    "\n",
    "## Why did I convert to numpy and then back to data frame? \n",
    "\n",
    "If I use the original data frame, `idxmax` outputs the header which is a string `\"Hillary Clinton\"` instead of the `int`, which does not allow us to index the value into the borda matrix"
   ]
  },
  {
   "cell_type": "code",
   "execution_count": 17,
   "metadata": {},
   "outputs": [
    {
     "name": "stdout",
     "output_type": "stream",
     "text": [
      "0       Bernie Sanders\n",
      "1       Bernie Sanders\n",
      "2       Bernie Sanders\n",
      "3       Bernie Sanders\n",
      "4       Bernie Sanders\n",
      "             ...      \n",
      "4200    Bernie Sanders\n",
      "4201    Bernie Sanders\n",
      "4202    Bernie Sanders\n",
      "4203    Bernie Sanders\n",
      "4204    Bernie Sanders\n",
      "Length: 4205, dtype: object\n",
      "\n",
      "\n",
      "Bernie Sanders\n"
     ]
    }
   ],
   "source": [
    "#get the row_max location\n",
    "row_max = num_data.idxmax(axis = 1)\n",
    "\n",
    "print(row_max)\n",
    "\n",
    "\n",
    "print('\\n\\n' + row_max[2])"
   ]
  },
  {
   "cell_type": "code",
   "execution_count": 13,
   "metadata": {},
   "outputs": [
    {
     "name": "stdout",
     "output_type": "stream",
     "text": [
      "0       1\n",
      "1       1\n",
      "2       2\n",
      "3       1\n",
      "4       1\n",
      "       ..\n",
      "4200    0\n",
      "4201    4\n",
      "4202    0\n",
      "4203    2\n",
      "4204    2\n",
      "Length: 4205, dtype: int64\n"
     ]
    }
   ],
   "source": [
    "#convert the data to a numpy matrix without the col headers\n",
    "numpy_mat = num_data.to_numpy()\n",
    "\n",
    "#convert that to a DataFrame to get row max\n",
    "mat = pd.DataFrame(numpy_mat)\n",
    "\n",
    "numpy_row_max = mat.idxmax(axis = 1)\n",
    "\n",
    "print(numpy_row_max)"
   ]
  },
  {
   "cell_type": "code",
   "execution_count": null,
   "metadata": {},
   "outputs": [],
   "source": []
  }
 ],
 "metadata": {
  "kernelspec": {
   "display_name": "Python 3",
   "language": "python",
   "name": "python3"
  },
  "language_info": {
   "codemirror_mode": {
    "name": "ipython",
    "version": 3
   },
   "file_extension": ".py",
   "mimetype": "text/x-python",
   "name": "python",
   "nbconvert_exporter": "python",
   "pygments_lexer": "ipython3",
   "version": "3.7.6"
  }
 },
 "nbformat": 4,
 "nbformat_minor": 4
}

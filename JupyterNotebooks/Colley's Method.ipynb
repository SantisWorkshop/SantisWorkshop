{
 "cells": [
  {
   "cell_type": "markdown",
   "metadata": {},
   "source": [
    "# Colley's Method, a bit of Dejavu\n",
    "\n",
    "Colley's Method modifies the winning percentage rate formula i.e $r_i = \\frac{w_i}{i_i}$, where the rating $(r_i)$ is the wins ($w_i$) over the games played ($t_i$) of team $i$, ny using Laplace's Rule of Succession. The reasoning is that the usual method to rate team has a few flaws:\n",
    "- At the start of the season $r_i = \\frac{0}{0}$\n",
    "- All wins and losses are treated equally. If a \"weaker\" team defeats a \"stronger\" or vice versa is treated the same as two balanced teams playing.\n",
    "- A winless team has rating 0.\n",
    "\n",
    "\n",
    "### Laplace's Rule of Succession\n",
    "\n",
    "The Colley matrix is derived from Laplace's Rule of Succession It states the following: If $X_1, X_2, \\dots, X_n$ are conditionally independent random variables where $X_i = 0$ or $X_i = 1, \\forall i \\in \\{1, 2, \\dots, n\\}$ then\n",
    "\n",
    "$$\\mathbb{P}(X_{n+1}| X_1 + \\cdots + X_n = s) = \\frac{s + 1}{n + 2} $$\n",
    "Where $s$ is the number of successes.\n",
    "\n",
    "If we let $s = w_i$ and $n = t_i$, he have the basis of Colley's Method, \n",
    "\n",
    "$$ r_i = \\frac{1 + w_i}{2 + t_i}$$\n",
    "\n",
    "This causes all teams to start with $r_i = \\frac{1}{2}$. Moreover, this means the ratings are centered at 0.5 so teams will move above or below 0.5 as the season progresses.\n",
    "\n",
    "## Cool, what now?\n",
    "\n",
    "Colley's matrix is very similar to the Massey matrix. The main difference is we add 2 to the total number of games played (the main diagonal).\n",
    "\n",
    "\n",
    "$$\n",
    "\\[\n",
    "\\begin{pmatrix}\n",
    "t_i + 2 & -n_{ij} & \\cdots & -n_{ij} \\\\\n",
    "-n_{ij} & t_i + 2 & \\cdots & -n_{ij} \\\\\n",
    "\\vdots & \\vdots & \\ddots & \\vdots \\\\\n",
    "-n_{ij} & -n_{ij} & \\cdots & t_i + 2 \\\\\n",
    "\\end{pmatrix}\n",
    "\\begin{pmatrix}\n",
    "r_1 \\\\\n",
    "r_2 \\\\\n",
    "\\vdots \\\\\n",
    "r_n\n",
    "\\end{pmatrix}\n",
    "= \n",
    "\\begin{pmatrix}\n",
    "b_1 \\\\\n",
    "b_2 \\\\\n",
    "\\vdots \\\\\n",
    "b_n\n",
    "\\end{pmatrix} \\]\n",
    "$$\n",
    "\n",
    "$t_i$  := # of games played <br />\n",
    "$n_{ij}$ := # of times team i played again team j <br />\n",
    "$b_i$  := $ 1 + \\frac{1}{2}(w_i - l_i)$, where $w_i = $ # of wins, $l_i = $ # of losses <br />\n",
    "$r_i$  := ranking \n",
    "\n",
    "\n",
    "Each $b_i$ is derived from the Rule of Succession. This system of equations starts by modifying $w_i$. Note that, \n",
    "\n",
    "$$ \\begin{align}\n",
    "w_i &= \\frac{w_i-l_i}{2} + \\frac{w_i+l_i}{2}\\\\ \n",
    "   &= \\frac{w_i-l_i}{2} + \\frac{t_i}{2}\\\\\n",
    "   &= \\frac{w_i-l_i}{2} + \\sum_{j=1}^{t_i} \\frac{1}{2}\n",
    "\\end{align}$$\n",
    "\n",
    "Now if we let teh cumulative ratings be the following summation, where $O_i$ is the teams candidate $j$ goes against we get, $$ \\sum_{j \\in O_i} r_j $$"
   ]
  },
  {
   "cell_type": "code",
   "execution_count": 2,
   "metadata": {},
   "outputs": [
    {
     "name": "stdout",
     "output_type": "stream",
     "text": [
      "['A', 'B', 'C', 'D', 'E']\n",
      "[[5. 4. 3. 2. 1.]\n",
      " [5. 1. 4. 3. 2.]\n",
      " [2. 5. 4. 1. 3.]\n",
      " [5. 1. 3. 2. 4.]\n",
      " [2. 4. 3. 5. 1.]\n",
      " [1. 2. 4. 5. 3.]]\n"
     ]
    }
   ],
   "source": [
    "# Load yo packages bruh\n",
    "import numpy as np\n",
    "import pandas as pd\n",
    "\n",
    "\n",
    "#Open the test data file and get the data as a NumPy array.\n",
    "f = open('test_data.txt')\n",
    "candidates = f.readline().split()\n",
    "f.close \n",
    "\n",
    "#This is the data that we will use.\n",
    "num_data = np.loadtxt('test_data.txt', skiprows = 1)\n",
    "\n",
    "#The data frame makes calculations easier.\n",
    "matrix = pd.DataFrame(num_data)\n",
    "\n",
    "print(candidates)\n",
    "print(num_data)"
   ]
  },
  {
   "cell_type": "markdown",
   "metadata": {},
   "source": [
    "# Let's get to work\n",
    "\n",
    "Using the same data as before, \n",
    "\n",
    "\n",
    "Let's use our data set from before.\n",
    "\n",
    "|        |  A  |  B  |  C  |  D  |  E  |\n",
    "|--------|-----|-----|-----|-----|-----|\n",
    "|Voter 1 |  5  |  4  |  3  |  2  |  1  |\n",
    "|Voter 2 |  5  |  1  |  4  |  3  |  2  |\n",
    "|Voter 3 |  2  |  5  |  4  |  1  |  3  |\n",
    "|Voter 4 |  5  |  1  |  3  |  2  |  4  |\n",
    "|Voter 5 |  2  |  4  |  3  |  5  |  1  |\n",
    "|Voter 6 |  1  |  2  |  4  |  5  |  3  |\n",
    "\n",
    "Where the wins and losses for each candidate are:\n",
    "\n",
    "|         |   A  |  B   |   C  |  D   |   E  |\n",
    "|---------|------|------|------|------|------|\n",
    "| Wins    |  14  |  11  |  15  |  12  |   8  |\n",
    "| Lossess |  10  |  13  |   9  |  12  |  16  |\n",
    "\n",
    "Our Colley matrix is a 5-by-5 matrix with ratings as follow.\n",
    "$$\\[\n",
    "\\begin{pmatrix}\n",
    "26 & -6 & -6 & -6 & -6 \\\\\n",
    "-6 & 26 & -6 & -6 & -6 \\\\\n",
    "-6 & -6 & 26 & -6 & -6 \\\\\n",
    "-6 & -6 & -6 & 26 & -6 \\\\\n",
    "-6 & -6 & -6 & -6 & 26 \n",
    "\\end{pmatrix}\n",
    "\\begin{pmatrix}\n",
    "r_1 \\\\\n",
    "r_2 \\\\\n",
    "r_3 \\\\\n",
    "r_4 \\\\\n",
    "r_5\n",
    "\\end{pmatrix}\n",
    "= \n",
    "\\begin{pmatrix}\n",
    "3 \\\\\n",
    "0 \\\\\n",
    "4 \\\\\n",
    "1 \\\\ \n",
    "-3\n",
    "\\end{pmatrix} \\]\n",
    "$$\n",
    "\n",
    "Notice that extra two we add to the main diagonal gives us an inveritble symmetric matrix. Thus, we can solve the system of linear equations without modifying the matrix, as we did with Massey. \n"
   ]
  },
  {
   "cell_type": "code",
   "execution_count": 3,
   "metadata": {},
   "outputs": [],
   "source": [
    "# Find shape of matrix.\n",
    "voters, num_cand = np.shape(num_data)\n",
    "\n",
    "# Create a matrix with the negative number of candidates. \n",
    "colley = -(voters * np.ones([num_cand,num_cand]))\n",
    "\n",
    "# Allocate data for wins/loss counters.\n",
    "wins = np.zeros(num_cand)\n",
    "losses = np.zeros(num_cand)\n",
    "\n",
    "# Create the appropriate main diagonal.\n",
    "for i in range(len(colley)):\n",
    "    colley[i,i] =  (voters * (num_cand - 1)) + 2\n",
    "\n",
    "\n",
    "#print(colley)\n",
    "# Create rating vector\n",
    "rating = np.zeros(num_cand)\n",
    "\n",
    "#Brute force the wins and losses\n",
    "for i in range(voters):\n",
    "    for j in range(num_cand):\n",
    "        for k in range(j, num_cand):\n",
    "            \n",
    "            points = num_data[i,j] - num_data[i,k]\n",
    "            if points > 0:\n",
    "                wins[j] += 1\n",
    "                losses[k] += 1\n",
    "            elif points < 0:\n",
    "                wins[k] += 1\n",
    "                losses[j] += 1\n",
    "                 \n",
    "#print(wins)\n",
    "#print(losses)\n"
   ]
  },
  {
   "cell_type": "code",
   "execution_count": 4,
   "metadata": {},
   "outputs": [
    {
     "name": "stdout",
     "output_type": "stream",
     "text": [
      "[ 3.  0.  4.  1. -3.]\n"
     ]
    }
   ],
   "source": [
    "#Calculate the values of vector b\n",
    "b_vec = np.zeros(num_cand)\n",
    "\n",
    "for i in range(num_cand):\n",
    "    b_vec[i] = 1 + .5*(wins[i] - losses[i])\n",
    "\n",
    "print(b_vec)"
   ]
  },
  {
   "cell_type": "markdown",
   "metadata": {},
   "source": [
    "# Results\n",
    "\n",
    "The code above allows us to create the Colley  matrix and solve the system of linear equations. When we solve we get the following results:\n",
    "\n",
    "|         |    A   |    B    |    C   |    D   |    E    |\n",
    "|---------|--------|---------|--------|--------|---------|\n",
    "| Colley  |  0.56  |   0.47  |  0.59  |   0.5  |   0.37  |\n",
    "| Massey  |  0.33  |  -0.17  |  0.5   |    0   |  -0.67  |\n",
    "\n",
    "\n",
    "# All Methods Compared\n",
    "\n",
    "\n",
    "|            |      A     |      B     |     C     |      D     |      E     |\n",
    "|-------- ---|------------|------------|-----------|------------|------------|\n",
    "|Colley      |  $2^{nd}$  |  $4^{th}$  |  $1^{st}$ |  $3^{rd}$  |  $5^{th}$  |\n",
    "|Massey      |  $2^{nd}$  |  $4^{th}$  |  $1^{st}$ |  $3^{rd}$  |  $5^{th}$  |\n",
    "|Plurality   |  $1^{st}$  |  $3^{rd}$  |  $4^{th}$ |  $2^{nd}$  |  $4^{th}$  |\n",
    "|Borda Count |  $2^{nd}$  |  $4^{th}$  |  $1^{st}$ |  $3^{rd}$  |  $5^{th}$  |\n"
   ]
  },
  {
   "cell_type": "code",
   "execution_count": 5,
   "metadata": {},
   "outputs": [],
   "source": [
    "# Solve system of linear equations.\n",
    "ratings = np.linalg.solve(colley, b_vec)"
   ]
  },
  {
   "cell_type": "code",
   "execution_count": 7,
   "metadata": {},
   "outputs": [
    {
     "name": "stdout",
     "output_type": "stream",
     "text": [
      "A:  0.56\n",
      "B:  0.47\n",
      "C:  0.59\n",
      "D:  0.5\n",
      "E:  0.37\n"
     ]
    }
   ],
   "source": [
    "#Print results.\n",
    "for i in range(len(candidates)):\n",
    "    print('{}: '.format(candidates[i]), str(round(ratings[i],2)))"
   ]
  },
  {
   "cell_type": "code",
   "execution_count": null,
   "metadata": {},
   "outputs": [],
   "source": []
  }
 ],
 "metadata": {
  "kernelspec": {
   "display_name": "Python 3",
   "language": "python",
   "name": "python3"
  },
  "language_info": {
   "codemirror_mode": {
    "name": "ipython",
    "version": 3
   },
   "file_extension": ".py",
   "mimetype": "text/x-python",
   "name": "python",
   "nbconvert_exporter": "python",
   "pygments_lexer": "ipython3",
   "version": "3.7.6"
  }
 },
 "nbformat": 4,
 "nbformat_minor": 4
}

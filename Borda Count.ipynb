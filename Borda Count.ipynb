{
 "cells": [
  {
   "cell_type": "markdown",
   "metadata": {},
   "source": [
    "# Borda Count... von Count\n",
    "\n",
    "At a glance Borda count is an extension of plurality voting. At it's core this method is point-based ranking, a voter's prefered candidate gets the most points. The winner is the candidate with the most points in the election.\n",
    "\n",
    "### How does it work?\n",
    "\n",
    "Suppose there are $n$ candidates in an election and a voter ranks these candidates. Borda count assigns weights to each  candidate based on their placement in the voter's ranking. These weights are usually positive numbers, and follow some linear scale.\n",
    "\n",
    "The common weights for an $n$ candidate election are \n",
    "\n",
    "$$n, n-1, \\dots, 2, 1$$. \n",
    "\n",
    "Where the candidate ranked first by a voter gets $n$ points and the one ranked last gets 1 point.\n",
    "\n",
    "Consider the following example, \n",
    "\n",
    "|      | Pizza| Tacos| Burgers | Curry | BBQ |\n",
    "|------|------|------|------|------|------|\n",
    "|Alice |   4  |   3  |   5  |  2   |   1  |\n",
    "\n",
    "Alice is really in the mood for burgers so she ranked it the highest. If we use the common weights, we don't do anything to this ranking as $burgers$ gets 5 points already.\n",
    "\n",
    "## Let's Complicate Things:\n"
   ]
  },
  {
   "cell_type": "code",
   "execution_count": 9,
   "metadata": {},
   "outputs": [
    {
     "name": "stdout",
     "output_type": "stream",
     "text": [
      "[[5. 4. 3. 2. 1.]\n",
      " [5. 1. 4. 3. 2.]\n",
      " [2. 5. 4. 1. 3.]\n",
      " [5. 1. 3. 2. 4.]\n",
      " [2. 4. 3. 5. 1.]\n",
      " [1. 2. 4. 5. 3.]]\n"
     ]
    }
   ],
   "source": [
    "import numpy as np\n",
    "import pandas as pd\n",
    "\n",
    "f = open('test_data.txt')\n",
    "candidates = f.readline().split()\n",
    "f.close    \n",
    "        \n",
    "data = np.loadtxt('test_data.txt', skiprows = 1)\n",
    "matrix = pd.DataFrame(data)\n",
    "print(data)\n",
    "#print(candidates)"
   ]
  },
  {
   "cell_type": "markdown",
   "metadata": {},
   "source": [
    "When we run the code above, this is how our data looks like.\n",
    "\n",
    "\n",
    "|        |  A  |  B  |  C  |  D  |  E  |\n",
    "|--------|-----|-----|-----|-----|-----|\n",
    "|Voter 1 |  5  |  4  |  3  |  2  |  1  |\n",
    "|Voter 2 |  5  |  1  |  4  |  3  |  2  |\n",
    "|Voter 3 |  2  |  5  |  4  |  1  |  3  |\n",
    "|Voter 4 |  5  |  1  |  3  |  2  |  4  |\n",
    "|Voter 5 |  2  |  4  |  3  |  5  |  1  |\n",
    "|Voter 6 |  1  |  2  |  4  |  5  |  3  |\n",
    "|  $\\textbf{Total:}$|  20 |  17 |  21 |  18 |  14 |\n",
    "\n",
    "\n",
    "The code below gives us the total of points given to candidates in the election."
   ]
  },
  {
   "cell_type": "code",
   "execution_count": 10,
   "metadata": {},
   "outputs": [
    {
     "name": "stdout",
     "output_type": "stream",
     "text": [
      "[20. 17. 21. 18. 14.]\n"
     ]
    }
   ],
   "source": [
    "results = data.sum(axis = 0)\n",
    "print(results)"
   ]
  },
  {
   "cell_type": "markdown",
   "metadata": {},
   "source": [
    "# Notice Something?\n",
    "\n",
    "If we look at our results in plurality voting we had the following results, \n",
    "\n",
    "\n",
    "$$ \\textbf{Plurality} $$\n",
    "\n",
    "|        |  A  |  B  |  C  |  D  |  E  |\n",
    "|--------|-----|-----|-----|-----|-----|\n",
    "|Results |  3  |  1  |  0  |  2  |  0  |\n",
    "\n",
    "If we rank candidates from first to fifth place and compare them with Borda count we get, \n",
    "\n",
    "$$ \\textbf{ Plurality v.s Borda Count} $$\n",
    "\n",
    "|            |      A     |      B     |     C     |      D     |      E     |\n",
    "|------------|------------|------------|-----------|------------|------------|\n",
    "|Plurality   |  $1^{st}$  |  $3^{rd}$  |  $4^{th}$ |  $2^{nd}$  |  $4^{th}$  |\n",
    "|Borda Count |  $2^{nd}$  |  $4^{th}$  |  $1^{st}$ |  $3^{rd}$  |  $5^{th}$  |\n",
    "\n",
    "Notice that eventhough Candidate A wins in plurality. The ranks of other candidates are changed. So there is a possiblity that a candidate can win even if they are the preferred choice of various voters.\n",
    "\n",
    "## I Don't Like  Weights\n",
    "\n",
    "If other weights are prefered we use the following code to find and count each candidates instance in each place. The loop below will output the following table.\n",
    "\n",
    "|        |  A  |  B  |  C  |  D  |  E  |\n",
    "|--------|-----|-----|-----|-----|-----|\n",
    "| First  |  3  |  0  |  0  |  2  |  1  |\n",
    "| Second |  1  |  2  |  0  |  1  |  2  |\n",
    "| Third  |  0  |  3  |  3  |  0  |  0  |\n",
    "| Fourth |  2  |  0  |  1  |  2  |  1  |\n",
    "| Fifth  |  0  |  1  |  2  |  1  |  2  |\n",
    "\n",
    "Notice that the \"First\" row shows the results of Plurality. From here we can assign weights and determine the winner.\n",
    "\n",
    "### How does it work?\n",
    "\n",
    "- We find the shape of the data matrix.\n",
    "- Create a matrix ```ranked_counts``` that will count the times a candidate appears in each rank.\n",
    "- Use a nested for loop that does the following:\n",
    "\n",
    "    - Compute ``` row_max ```.\n",
    "    - For $candidate_i$ find the location of the ``` row_max ```.\n",
    "    - Increase the times $candidate_i$ appears in $rank_j$.\n",
    "    - Replace the ``` row max ``` with 0.\n",
    "    - Repeat...\n",
    "    "
   ]
  },
  {
   "cell_type": "code",
   "execution_count": 11,
   "metadata": {},
   "outputs": [
    {
     "name": "stdout",
     "output_type": "stream",
     "text": [
      "0    0\n",
      "1    0\n",
      "2    1\n",
      "3    0\n",
      "4    3\n",
      "5    3\n",
      "dtype: int64\n",
      "[[3. 0. 0. 2. 1.]\n",
      " [1. 2. 0. 1. 2.]\n",
      " [0. 3. 3. 0. 0.]\n",
      " [2. 0. 1. 2. 1.]\n",
      " [0. 1. 2. 1. 2.]]\n"
     ]
    }
   ],
   "source": [
    "row, col = np.shape(matrix - 1)\n",
    "   \n",
    "ranked_counts = np.zeros((row - 1,col))\n",
    "print(matrix.idxmax(axis = 1))  \n",
    "while data.any() != np.zeros((row, col)).any():\n",
    "    for i in range(row):\n",
    "        for j in range(col):\n",
    "            \n",
    "            #find the row max.\n",
    "            row_max = matrix.idxmax(axis = 1)\n",
    "             \n",
    "            #find the location of the row max for candidate_i.\n",
    "            location = row_max[i]\n",
    "            \n",
    "            #Increase the instance of candidate_i in rank_j\n",
    "            ranked_counts[location,j] += 1\n",
    "            \n",
    "            #replace the location of the row max with 0.\n",
    "            data[i, location] = 0\n",
    "            \n",
    "            \n",
    "print(ranked_counts)"
   ]
  },
  {
   "cell_type": "markdown",
   "metadata": {},
   "source": [
    "# Do You Even Borda?\n",
    "\n",
    "Let's assign some weights, all we need is an $n$-length array. This array will be our $n \\times 1$ vector of weights that we multiply the position matrix by. Once this happens we just sum up our row and **BAM!** we have our points. Let's say for this example, we want to give more points to ranks 1 and 2, and significantly less points to the rest of the candidates.\n",
    "\n",
    "$$ weights = (15, 10, 3, 2, 1) $$\n",
    "\n",
    "Since we already have the ``` ranked_counts ``` matrix, we just need to multiply the matrix with the weights vector. By the structure of the ``` ranked_counts ``` matrix multiplication, out Borda points are given by the row sum.\n"
   ]
  },
  {
   "cell_type": "code",
   "execution_count": 4,
   "metadata": {},
   "outputs": [
    {
     "name": "stdout",
     "output_type": "stream",
     "text": [
      "Here are the election results:\n",
      "A:  50.0\n",
      "B:  39.0\n",
      "C:  39.0\n",
      "D:  38.0\n",
      "E:  20.0\n"
     ]
    }
   ],
   "source": [
    "#Assign weights.\n",
    "weights = [15, 10, 3, 2 ,1]\n",
    "\n",
    "#Multiply the weights and ranked_counts.\n",
    "borda_matrix = weights * ranked_counts\n",
    "\n",
    "#Get the row sum to find the points of each candidate.\n",
    "borda_points = borda_matrix.sum(axis = 1)\n",
    "\n",
    "\n",
    "print('Here are the election results:')\n",
    "for i in range(len(borda_points)):\n",
    "    print('{}: '.format(candidates[i]), str(borda_points[i]))"
   ]
  },
  {
   "cell_type": "markdown",
   "metadata": {},
   "source": [
    "With these weights our results are as follow, \n",
    "\n",
    "|        |    A    |    B    |    C    |    D    |   E    |\n",
    "|--------|---------|---------|---------|---------|--------|\n",
    "|Results |    50   |   39    |   39    |   38    |   20   |\n",
    "|Ranking | $1^{st}$| $2^{nd}$| $2^{nd}$| $3^{rd}$|$4^{th}$|\n",
    "\n",
    "# Issues\n",
    "\n",
    "Just as in plurality, we again run into issues with ties. While  our example had a tie for $2^{nd}$ place, we are interested in first place only so we can \"ignore\" it. In case there's a tie for first, again we would need a run-off election, which again, is not possible with our data.\n",
    "\n"
   ]
  }
 ],
 "metadata": {
  "kernelspec": {
   "display_name": "Python 3",
   "language": "python",
   "name": "python3"
  },
  "language_info": {
   "codemirror_mode": {
    "name": "ipython",
    "version": 3
   },
   "file_extension": ".py",
   "mimetype": "text/x-python",
   "name": "python",
   "nbconvert_exporter": "python",
   "pygments_lexer": "ipython3",
   "version": "3.7.6"
  }
 },
 "nbformat": 4,
 "nbformat_minor": 4
}

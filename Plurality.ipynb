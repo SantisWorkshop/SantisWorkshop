{
 "cells": [
  {
   "cell_type": "markdown",
   "metadata": {},
   "source": [
    "# Plurality Voting\n",
    "\n",
    "This is the most common ranking method out there. Simply put, get your candidates and let your voters pick their favorite. The most favorite candidate wins.\n",
    "\n",
    "### How do we implement it?\n",
    "\n",
    "Note that the data we are using ranks candidates on a 1-5 scale. 5 being the most favored candidate and 1 being the lest favored candidate by the voter. The example below, shows us that Alice really likes burgers, but doesn't like BBQ too much. \n",
    "\n",
    "|      | Pizza| Tacos| Burgers | Curry | BBQ |\n",
    "|------|------|------|------|------|------|\n",
    "|Alice |   4  |   3  |   5  |  2   |   1  |"
   ]
  },
  {
   "cell_type": "code",
   "execution_count": 1,
   "metadata": {},
   "outputs": [
    {
     "name": "stdout",
     "output_type": "stream",
     "text": [
      "['A', 'B', 'C', 'D', 'E']\n"
     ]
    }
   ],
   "source": [
    "# Load yo packages bruh\n",
    "import numpy as np\n",
    "import pandas as pd\n",
    "\n",
    "\n",
    "#Open the test data file and get the data as a NumPy array.\n",
    "f = open('test_data.txt')\n",
    "candidates = f.readline().split()\n",
    "f.close \n",
    "\n",
    "#This is the data that we will use.\n",
    "num_data = np.loadtxt('test_data.txt', skiprows = 1)\n",
    "\n",
    "#The data frame makes calculations easier.\n",
    "matrix = pd.DataFrame(num_data)\n",
    "\n",
    "print(candidates)\n",
    "#print(matrix)"
   ]
  },
  {
   "cell_type": "markdown",
   "metadata": {},
   "source": [
    "# Loading our data\n",
    "\n",
    "\n",
    "The code above will give us the following output \n",
    "\n",
    "|        |  A  |  B  |  C  |  D  |  E  |\n",
    "|--------|-----|-----|-----|-----|-----|\n",
    "|Voter 1 |  5  |  4  |  3  |  2  |  1  |\n",
    "|Voter 2 |  5  |  1  |  4  |  3  |  2  |\n",
    "|Voter 3 |  2  |  5  |  4  |  1  |  3  |\n",
    "|Voter 4 |  5  |  1  |  3  |  2  |  4  |\n",
    "|Voter 5 |  2  |  4  |  3  |  5  |  1  |\n",
    "|Voter 6 |  1  |  2  |  4  |  5  |  3  |\n",
    "\n",
    "### What do we do then?\n",
    "\n",
    "From this data we take the size of the matrix and find the row max. The matrix dimensions are used in finding the location of the row max. Notice that, \n",
    "- The **rows** are the voters.\n",
    "- The **columns** are the candidates.\n",
    "- The results will be held in the ``` results ``` vector.\n",
    "\n",
    "This will be important in the following computations."
   ]
  },
  {
   "cell_type": "code",
   "execution_count": 2,
   "metadata": {},
   "outputs": [],
   "source": [
    "# find the size of the matrix\n",
    "row, col = np.shape(matrix-1)\n",
    "\n",
    "#Find the row max.\n",
    "row_max = matrix.max(axis = 1)\n",
    "\n",
    "# Allocate a vector to contain the election results. \n",
    "results = np.zeros(row - 1)"
   ]
  },
  {
   "cell_type": "markdown",
   "metadata": {},
   "source": [
    "# The Funny Business\n",
    "\n",
    "If we are to translate the nested for loop to English this is what's going on:\n",
    "- **Loop 1:** Look at voter$_i$'s ranking. \n",
    "- **Loop 2:** Go through their vote and locate the candidate they ranked the highest.\n",
    "- Give the appropriate candidate a vote.\n",
    "\n",
    "```python\n",
    "print(results) \n",
    "``` \n",
    "Will tell us how many times each candidate was elected number 1. If we use our current data set, \n",
    "\n",
    "\n",
    "|        |  A  |  B  |  C  |  D  |  E  |\n",
    "|--------|-----|-----|-----|-----|-----|\n",
    "|Voter 1 |  5  |  4  |  3  |  2  |  1  |\n",
    "|Voter 2 |  5  |  1  |  4  |  3  |  2  |\n",
    "|Voter 3 |  2  |  5  |  4  |  1  |  3  |\n",
    "|Voter 4 |  5  |  1  |  3  |  2  |  4  |\n",
    "|Voter 5 |  2  |  4  |  3  |  5  |  1  |\n",
    "|Voter 6 |  1  |  2  |  4  |  5  |  3  |\n",
    "\n",
    "Our output should be, \n",
    "\n",
    "\n",
    "|        |  A  |  B  |  C  |  D  |  E  |\n",
    "|--------|-----|-----|-----|-----|-----|\n",
    "|Results |  3  |  1  |  0  |  2  |  0  |\n",
    "\n",
    "Thus, **Candidate A** won. Congrats!!!"
   ]
  },
  {
   "cell_type": "code",
   "execution_count": 3,
   "metadata": {},
   "outputs": [
    {
     "name": "stdout",
     "output_type": "stream",
     "text": [
      "Here are the results: \n",
      "\n",
      "A:  3\n",
      "B:  1\n",
      "C:  0\n",
      "D:  2\n",
      "E:  0\n"
     ]
    }
   ],
   "source": [
    "#This is where we do the hard work. \n",
    "#You go through the matrix finding the position of the max row value.\n",
    "\n",
    "for i in range(row):\n",
    "    for j in range(col):\n",
    "        #Look for the position of row max\n",
    "        if matrix.loc[i,j] == row_max[i]:\n",
    "            #Give a vote to the correspoding candidate\n",
    "            results[j] += 1\n",
    "print('Here are the results: \\n')\n",
    "\n",
    "for k in range(len(candidates)):\n",
    "    print('{}: '.format(candidates[k]), str(int(results[k])))"
   ]
  },
  {
   "cell_type": "markdown",
   "metadata": {},
   "source": [
    "# Issues?\n",
    "\n",
    "Something to note here, is that this algortihm does not deal with ties. Traditionally, if there is a tie, there is a run-off election between the candidates that are in a tie. However, since we cannot get the voters to vote again since our data set is fixed. The results will be inconclusive to some degree."
   ]
  }
 ],
 "metadata": {
  "kernelspec": {
   "display_name": "Python 3",
   "language": "python",
   "name": "python3"
  },
  "language_info": {
   "codemirror_mode": {
    "name": "ipython",
    "version": 3
   },
   "file_extension": ".py",
   "mimetype": "text/x-python",
   "name": "python",
   "nbconvert_exporter": "python",
   "pygments_lexer": "ipython3",
   "version": "3.7.6"
  }
 },
 "nbformat": 4,
 "nbformat_minor": 4
}
